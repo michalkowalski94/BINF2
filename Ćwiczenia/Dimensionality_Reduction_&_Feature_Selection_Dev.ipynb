{
  "nbformat": 4,
  "nbformat_minor": 0,
  "metadata": {
    "colab": {
      "name": "Dimensionality Reduction & Feature Selection.ipynb",
      "provenance": [],
      "collapsed_sections": [],
      "toc_visible": true
    },
    "kernelspec": {
      "name": "python3",
      "display_name": "Python 3"
    }
  },
  "cells": [
    {
      "cell_type": "markdown",
      "metadata": {
        "id": "ecFWfS3vMckw",
        "colab_type": "text"
      },
      "source": [
        "<b><u><title>Redukcja wymiarów oraz selekcja cech kluczowych wielowymiarowych zbiorów dancyh.</title></b></u>\n",
        "\n",
        "--------------------------------------------------------------------------\n",
        "\n",
        "# Krótkie słowa wstępu.\n",
        "\n",
        "Uprawianie Data Science w bioinformatyce oraz innych wymagających cierpliwości, specjalistycznej wiedzy oraz dotczących relanych problemów świata dziedzin nauki jest wciąż raczkującym podejściem. Rozumienie stosowanych metod niekiedy schodzi na dalszy plan co jest skutkiem goniących terminów oraz rzekomej złożoności matematyki stojącej za owymi rozwiązaniami.\n",
        "Niekiedy metody te oparte na prostej statystyce, będąc zachwalane w publikacjach, tutorialach oraz na przestrzeniu forum internetowych nie powinny mieć zastosowania do większości danych biologicznych, lecz stanowią swoisty \"trigger word\", który ma za zadanie pokazać że badacz jest na czasie, \"cool\" oraz nie boi się interdyscyplinarności.\n",
        "\n",
        "\n",
        "## Principal Component / Coordinate Analysis, czyli jak być fajnym ale nie koniecznie poprawnym.\n",
        "\n",
        "Nie raz rozmawiając z osobami potencjalnie zajmującymi się podobnymi problemami badawczymi (biostatystycy, data scientists, biolodzy) natykałem się ze słowami rodem z pasty o [fanatyku wędkarstwa](https://copypasta.fandom.com/pl/wiki/M%C3%B3j_stary_to_fanatyk_w%C4%99dkarstwa.) \"PCA jest król genomiki, tak jak lew jest król dżungli!\". Jeśli słowa te pozostawiają u was cierpki wyraz twarzy, nie spojlerujcie mniej zaznajomionym kolegom dlaczego. Dzisiaj sami dojdą do tych wniosków.\n",
        "\n",
        "## Podstawa użytkowania PCA\n",
        "\n",
        "Jeśli wkleiłbym tutaj wzór na PCA, połowa z was by zasnęła, 1/4 się zaśmiała a 1/4 wyszła. Wklejanie tak skomplikowanych wzorów mija się z celem. Jeśli ktoś z was będzie chciał faktycznie zgłębić jego tajemnicę to [tutaj](https://www.youtube.com/watch?v=kw9R0nD69OU) oraz [tam](https://www.youtube.com/watch?v=rng04VJxUt4) znajdziecie ważniejsze informacje na temat jego działania. Moim dzisiejszym zadaniem jest przekazanie wam intuicji dotyczącej tego kiedy używać tego algorytmu a kiedy nie. Zatem do rzeczy, macie 5 minut żeby przypomnieć sobie kluczową różnicę pomiędzy testem parametrycznym takim jak ANOVA a nie parametrycznym takim jak Kruskal-Wallis test. Uścisk ręki prezesa temu kto najprościej powie jak sprawdzić kiedy stosować jeden test a kiedy drugi. Czas start! Odpalamy komórkę poniżej i lecimy z tematem!\n",
        "\n",
        "\n",
        "\n"
      ]
    },
    {
      "cell_type": "code",
      "metadata": {
        "id": "qvEIrnUuRJ3o",
        "colab_type": "code",
        "outputId": "4b8ca0b2-050f-41d0-936f-f28aa4a39281",
        "colab": {
          "base_uri": "https://localhost:8080/",
          "height": 264
        }
      },
      "source": [
        "import time\n",
        "for i in range(5):\n",
        "  if i < 4:\n",
        "    print(\"{} min left\".format(5 - i))\n",
        "    time.sleep(60)\n",
        "  else:\n",
        "    print(\"{} min left\".format(5 - i))\n",
        "    time.sleep(60)\n",
        "    print(\"Czas na odpowieź\")"
      ],
      "execution_count": 1,
      "outputs": [
        {
          "output_type": "stream",
          "text": [
            "5 min left\n"
          ],
          "name": "stdout"
        },
        {
          "output_type": "error",
          "ename": "KeyboardInterrupt",
          "evalue": "ignored",
          "traceback": [
            "\u001b[0;31m---------------------------------------------------------------------------\u001b[0m",
            "\u001b[0;31mKeyboardInterrupt\u001b[0m                         Traceback (most recent call last)",
            "\u001b[0;32m<ipython-input-1-bcb70c21a1b8>\u001b[0m in \u001b[0;36m<module>\u001b[0;34m()\u001b[0m\n\u001b[1;32m      3\u001b[0m   \u001b[0;32mif\u001b[0m \u001b[0mi\u001b[0m \u001b[0;34m<\u001b[0m \u001b[0;36m4\u001b[0m\u001b[0;34m:\u001b[0m\u001b[0;34m\u001b[0m\u001b[0;34m\u001b[0m\u001b[0m\n\u001b[1;32m      4\u001b[0m     \u001b[0mprint\u001b[0m\u001b[0;34m(\u001b[0m\u001b[0;34m\"{} min left\"\u001b[0m\u001b[0;34m.\u001b[0m\u001b[0mformat\u001b[0m\u001b[0;34m(\u001b[0m\u001b[0;36m5\u001b[0m \u001b[0;34m-\u001b[0m \u001b[0mi\u001b[0m\u001b[0;34m)\u001b[0m\u001b[0;34m)\u001b[0m\u001b[0;34m\u001b[0m\u001b[0;34m\u001b[0m\u001b[0m\n\u001b[0;32m----> 5\u001b[0;31m     \u001b[0mtime\u001b[0m\u001b[0;34m.\u001b[0m\u001b[0msleep\u001b[0m\u001b[0;34m(\u001b[0m\u001b[0;36m60\u001b[0m\u001b[0;34m)\u001b[0m\u001b[0;34m\u001b[0m\u001b[0;34m\u001b[0m\u001b[0m\n\u001b[0m\u001b[1;32m      6\u001b[0m   \u001b[0;32melse\u001b[0m\u001b[0;34m:\u001b[0m\u001b[0;34m\u001b[0m\u001b[0;34m\u001b[0m\u001b[0m\n\u001b[1;32m      7\u001b[0m     \u001b[0mprint\u001b[0m\u001b[0;34m(\u001b[0m\u001b[0;34m\"{} min left\"\u001b[0m\u001b[0;34m.\u001b[0m\u001b[0mformat\u001b[0m\u001b[0;34m(\u001b[0m\u001b[0;36m5\u001b[0m \u001b[0;34m-\u001b[0m \u001b[0mi\u001b[0m\u001b[0;34m)\u001b[0m\u001b[0;34m)\u001b[0m\u001b[0;34m\u001b[0m\u001b[0;34m\u001b[0m\u001b[0m\n",
            "\u001b[0;31mKeyboardInterrupt\u001b[0m: "
          ]
        }
      ]
    },
    {
      "cell_type": "markdown",
      "metadata": {
        "id": "dV2L_CN8X_Qd",
        "colab_type": "text"
      },
      "source": [
        "# Sprawdźmy czy macie rację\n",
        "Poniżej zaimportujemy pewien zestaw danych.\n",
        "Korzystając z dokumentacji [`sklearn`](https://scikit-learn.org/stable/) i [`scipy`](https://www.scipy.org/docs.html) będziecie dziś na nim operować, tak aby stworzyć najlepszy możliwy model prostej regresji logistycznej.\n",
        "\n",
        "Dane są wielowymiarowe i należy wyciągnąć z nich jedyne przydatne informacje do klasyfikacji.\n",
        "\n",
        "Dla utrudnienia użyjemy datasetu Wisconsin Breast Cancer bez nazw kolumn"
      ]
    },
    {
      "cell_type": "code",
      "metadata": {
        "id": "kHq8AJovYVHf",
        "colab_type": "code",
        "outputId": "18555738-e2dd-4fed-be78-aa7f380010ca",
        "colab": {
          "base_uri": "https://localhost:8080/",
          "height": 421
        }
      },
      "source": [
        "!wget http://archive.ics.uci.edu/ml/machine-learning-databases/breast-cancer-wisconsin/wdbc.data & wget http://archive.ics.uci.edu/ml/machine-learning-databases/breast-cancer-wisconsin/wdbc.names"
      ],
      "execution_count": 2,
      "outputs": [
        {
          "output_type": "stream",
          "text": [
            "--2019-11-22 15:45:24--  http://archive.ics.uci.edu/ml/machine-learning-databases/breast-cancer-wisconsin/wdbc.names\n",
            "--2019-11-22 15:45:24--  http://archive.ics.uci.edu/ml/machine-learning-databases/breast-cancer-wisconsin/wdbc.data\n",
            "Resolving archive.ics.uci.edu (archive.ics.uci.edu)... Resolving archive.ics.uci.edu (archive.ics.uci.edu)... 128.195.10.252\n",
            "Connecting to archive.ics.uci.edu (archive.ics.uci.edu)|128.195.10.252|:80... 128.195.10.252\n",
            "Connecting to archive.ics.uci.edu (archive.ics.uci.edu)|128.195.10.252|:80... connected.\n",
            "connected.\n",
            "HTTP request sent, awaiting response... HTTP request sent, awaiting response... 200 OK\n",
            "Length: 4708 (4.6K) [application/x-httpd-php]\n",
            "Saving to: ‘wdbc.names.2’\n",
            "\n",
            "\rwdbc.names.2          0%[                    ]       0  --.-KB/s               \rwdbc.names.2        100%[===================>]   4.60K  --.-KB/s    in 0s      \n",
            "\n",
            "2019-11-22 15:45:25 (336 MB/s) - ‘wdbc.names.2’ saved [4708/4708]\n",
            "\n",
            "200 OK\n",
            "Length: 124103 (121K) [application/x-httpd-php]\n",
            "Saving to: ‘wdbc.data.2’\n",
            "\n",
            "\rwdbc.data.2           0%[                    ]       0  --.-KB/s               \rwdbc.data.2          39%[======>             ]  47.70K   185KB/s               \rwdbc.data.2         100%[===================>] 121.19K   312KB/s    in 0.4s    \n",
            "\n",
            "2019-11-22 15:45:25 (312 KB/s) - ‘wdbc.data.2’ saved [124103/124103]\n",
            "\n"
          ],
          "name": "stdout"
        }
      ]
    },
    {
      "cell_type": "code",
      "metadata": {
        "id": "0h2Waj90az1J",
        "colab_type": "code",
        "outputId": "28929225-0070-4877-ea11-dc9ec392dd94",
        "colab": {
          "base_uri": "https://localhost:8080/",
          "height": 400
        }
      },
      "source": [
        "# Importujemy bibliotekę pandas by móc działać na data frames\n",
        "import pandas\n",
        "\n",
        "# Wczytujemy plik csv z usunięciem informacji o nazwach kolumn\n",
        "data = pandas.read_csv(\"wdbc.data\", header = None)\n",
        "cols = data.columns.to_list()\n",
        "\n",
        "# Nadajemy \"dummy\" nazwy kolumn\n",
        "for i in range(len(cols)):\n",
        "  if i == 0:\n",
        "    cols[i] = \"Index\"\n",
        "  elif i == 1:\n",
        "    cols[i] = \"Tumor\"\n",
        "  else:\n",
        "    cols[i] = \"Feature {}\".format(i-1)\n",
        "data.columns = cols\n",
        "\n",
        "# Czyścimy co nieco kolumnę kategorii\n",
        "data.Tumor = data.Tumor.replace(\"M\", \"Malignant\")\n",
        "data.Tumor = data.Tumor.replace(\"B\", \"Benign\")\n",
        "column_idx_names = data.columns\n",
        "\n",
        "# Usuwamy ID pacjenta i przywracamy nazwy kolumn zgodne z indeksami\n",
        "data = data.iloc[:,1:]\n",
        "\n",
        "# Wyświetlamy pierwsze 10 rzędów data frame'u\n",
        "data.head(10)"
      ],
      "execution_count": 3,
      "outputs": [
        {
          "output_type": "execute_result",
          "data": {
            "text/html": [
              "<div>\n",
              "<style scoped>\n",
              "    .dataframe tbody tr th:only-of-type {\n",
              "        vertical-align: middle;\n",
              "    }\n",
              "\n",
              "    .dataframe tbody tr th {\n",
              "        vertical-align: top;\n",
              "    }\n",
              "\n",
              "    .dataframe thead th {\n",
              "        text-align: right;\n",
              "    }\n",
              "</style>\n",
              "<table border=\"1\" class=\"dataframe\">\n",
              "  <thead>\n",
              "    <tr style=\"text-align: right;\">\n",
              "      <th></th>\n",
              "      <th>Tumor</th>\n",
              "      <th>Feature 1</th>\n",
              "      <th>Feature 2</th>\n",
              "      <th>Feature 3</th>\n",
              "      <th>Feature 4</th>\n",
              "      <th>Feature 5</th>\n",
              "      <th>Feature 6</th>\n",
              "      <th>Feature 7</th>\n",
              "      <th>Feature 8</th>\n",
              "      <th>Feature 9</th>\n",
              "      <th>Feature 10</th>\n",
              "      <th>Feature 11</th>\n",
              "      <th>Feature 12</th>\n",
              "      <th>Feature 13</th>\n",
              "      <th>Feature 14</th>\n",
              "      <th>Feature 15</th>\n",
              "      <th>Feature 16</th>\n",
              "      <th>Feature 17</th>\n",
              "      <th>Feature 18</th>\n",
              "      <th>Feature 19</th>\n",
              "      <th>Feature 20</th>\n",
              "      <th>Feature 21</th>\n",
              "      <th>Feature 22</th>\n",
              "      <th>Feature 23</th>\n",
              "      <th>Feature 24</th>\n",
              "      <th>Feature 25</th>\n",
              "      <th>Feature 26</th>\n",
              "      <th>Feature 27</th>\n",
              "      <th>Feature 28</th>\n",
              "      <th>Feature 29</th>\n",
              "      <th>Feature 30</th>\n",
              "    </tr>\n",
              "  </thead>\n",
              "  <tbody>\n",
              "    <tr>\n",
              "      <th>0</th>\n",
              "      <td>Malignant</td>\n",
              "      <td>17.99</td>\n",
              "      <td>10.38</td>\n",
              "      <td>122.80</td>\n",
              "      <td>1001.0</td>\n",
              "      <td>0.11840</td>\n",
              "      <td>0.27760</td>\n",
              "      <td>0.30010</td>\n",
              "      <td>0.14710</td>\n",
              "      <td>0.2419</td>\n",
              "      <td>0.07871</td>\n",
              "      <td>1.0950</td>\n",
              "      <td>0.9053</td>\n",
              "      <td>8.589</td>\n",
              "      <td>153.40</td>\n",
              "      <td>0.006399</td>\n",
              "      <td>0.04904</td>\n",
              "      <td>0.05373</td>\n",
              "      <td>0.01587</td>\n",
              "      <td>0.03003</td>\n",
              "      <td>0.006193</td>\n",
              "      <td>25.38</td>\n",
              "      <td>17.33</td>\n",
              "      <td>184.60</td>\n",
              "      <td>2019.0</td>\n",
              "      <td>0.1622</td>\n",
              "      <td>0.6656</td>\n",
              "      <td>0.7119</td>\n",
              "      <td>0.2654</td>\n",
              "      <td>0.4601</td>\n",
              "      <td>0.11890</td>\n",
              "    </tr>\n",
              "    <tr>\n",
              "      <th>1</th>\n",
              "      <td>Malignant</td>\n",
              "      <td>20.57</td>\n",
              "      <td>17.77</td>\n",
              "      <td>132.90</td>\n",
              "      <td>1326.0</td>\n",
              "      <td>0.08474</td>\n",
              "      <td>0.07864</td>\n",
              "      <td>0.08690</td>\n",
              "      <td>0.07017</td>\n",
              "      <td>0.1812</td>\n",
              "      <td>0.05667</td>\n",
              "      <td>0.5435</td>\n",
              "      <td>0.7339</td>\n",
              "      <td>3.398</td>\n",
              "      <td>74.08</td>\n",
              "      <td>0.005225</td>\n",
              "      <td>0.01308</td>\n",
              "      <td>0.01860</td>\n",
              "      <td>0.01340</td>\n",
              "      <td>0.01389</td>\n",
              "      <td>0.003532</td>\n",
              "      <td>24.99</td>\n",
              "      <td>23.41</td>\n",
              "      <td>158.80</td>\n",
              "      <td>1956.0</td>\n",
              "      <td>0.1238</td>\n",
              "      <td>0.1866</td>\n",
              "      <td>0.2416</td>\n",
              "      <td>0.1860</td>\n",
              "      <td>0.2750</td>\n",
              "      <td>0.08902</td>\n",
              "    </tr>\n",
              "    <tr>\n",
              "      <th>2</th>\n",
              "      <td>Malignant</td>\n",
              "      <td>19.69</td>\n",
              "      <td>21.25</td>\n",
              "      <td>130.00</td>\n",
              "      <td>1203.0</td>\n",
              "      <td>0.10960</td>\n",
              "      <td>0.15990</td>\n",
              "      <td>0.19740</td>\n",
              "      <td>0.12790</td>\n",
              "      <td>0.2069</td>\n",
              "      <td>0.05999</td>\n",
              "      <td>0.7456</td>\n",
              "      <td>0.7869</td>\n",
              "      <td>4.585</td>\n",
              "      <td>94.03</td>\n",
              "      <td>0.006150</td>\n",
              "      <td>0.04006</td>\n",
              "      <td>0.03832</td>\n",
              "      <td>0.02058</td>\n",
              "      <td>0.02250</td>\n",
              "      <td>0.004571</td>\n",
              "      <td>23.57</td>\n",
              "      <td>25.53</td>\n",
              "      <td>152.50</td>\n",
              "      <td>1709.0</td>\n",
              "      <td>0.1444</td>\n",
              "      <td>0.4245</td>\n",
              "      <td>0.4504</td>\n",
              "      <td>0.2430</td>\n",
              "      <td>0.3613</td>\n",
              "      <td>0.08758</td>\n",
              "    </tr>\n",
              "    <tr>\n",
              "      <th>3</th>\n",
              "      <td>Malignant</td>\n",
              "      <td>11.42</td>\n",
              "      <td>20.38</td>\n",
              "      <td>77.58</td>\n",
              "      <td>386.1</td>\n",
              "      <td>0.14250</td>\n",
              "      <td>0.28390</td>\n",
              "      <td>0.24140</td>\n",
              "      <td>0.10520</td>\n",
              "      <td>0.2597</td>\n",
              "      <td>0.09744</td>\n",
              "      <td>0.4956</td>\n",
              "      <td>1.1560</td>\n",
              "      <td>3.445</td>\n",
              "      <td>27.23</td>\n",
              "      <td>0.009110</td>\n",
              "      <td>0.07458</td>\n",
              "      <td>0.05661</td>\n",
              "      <td>0.01867</td>\n",
              "      <td>0.05963</td>\n",
              "      <td>0.009208</td>\n",
              "      <td>14.91</td>\n",
              "      <td>26.50</td>\n",
              "      <td>98.87</td>\n",
              "      <td>567.7</td>\n",
              "      <td>0.2098</td>\n",
              "      <td>0.8663</td>\n",
              "      <td>0.6869</td>\n",
              "      <td>0.2575</td>\n",
              "      <td>0.6638</td>\n",
              "      <td>0.17300</td>\n",
              "    </tr>\n",
              "    <tr>\n",
              "      <th>4</th>\n",
              "      <td>Malignant</td>\n",
              "      <td>20.29</td>\n",
              "      <td>14.34</td>\n",
              "      <td>135.10</td>\n",
              "      <td>1297.0</td>\n",
              "      <td>0.10030</td>\n",
              "      <td>0.13280</td>\n",
              "      <td>0.19800</td>\n",
              "      <td>0.10430</td>\n",
              "      <td>0.1809</td>\n",
              "      <td>0.05883</td>\n",
              "      <td>0.7572</td>\n",
              "      <td>0.7813</td>\n",
              "      <td>5.438</td>\n",
              "      <td>94.44</td>\n",
              "      <td>0.011490</td>\n",
              "      <td>0.02461</td>\n",
              "      <td>0.05688</td>\n",
              "      <td>0.01885</td>\n",
              "      <td>0.01756</td>\n",
              "      <td>0.005115</td>\n",
              "      <td>22.54</td>\n",
              "      <td>16.67</td>\n",
              "      <td>152.20</td>\n",
              "      <td>1575.0</td>\n",
              "      <td>0.1374</td>\n",
              "      <td>0.2050</td>\n",
              "      <td>0.4000</td>\n",
              "      <td>0.1625</td>\n",
              "      <td>0.2364</td>\n",
              "      <td>0.07678</td>\n",
              "    </tr>\n",
              "    <tr>\n",
              "      <th>5</th>\n",
              "      <td>Malignant</td>\n",
              "      <td>12.45</td>\n",
              "      <td>15.70</td>\n",
              "      <td>82.57</td>\n",
              "      <td>477.1</td>\n",
              "      <td>0.12780</td>\n",
              "      <td>0.17000</td>\n",
              "      <td>0.15780</td>\n",
              "      <td>0.08089</td>\n",
              "      <td>0.2087</td>\n",
              "      <td>0.07613</td>\n",
              "      <td>0.3345</td>\n",
              "      <td>0.8902</td>\n",
              "      <td>2.217</td>\n",
              "      <td>27.19</td>\n",
              "      <td>0.007510</td>\n",
              "      <td>0.03345</td>\n",
              "      <td>0.03672</td>\n",
              "      <td>0.01137</td>\n",
              "      <td>0.02165</td>\n",
              "      <td>0.005082</td>\n",
              "      <td>15.47</td>\n",
              "      <td>23.75</td>\n",
              "      <td>103.40</td>\n",
              "      <td>741.6</td>\n",
              "      <td>0.1791</td>\n",
              "      <td>0.5249</td>\n",
              "      <td>0.5355</td>\n",
              "      <td>0.1741</td>\n",
              "      <td>0.3985</td>\n",
              "      <td>0.12440</td>\n",
              "    </tr>\n",
              "    <tr>\n",
              "      <th>6</th>\n",
              "      <td>Malignant</td>\n",
              "      <td>18.25</td>\n",
              "      <td>19.98</td>\n",
              "      <td>119.60</td>\n",
              "      <td>1040.0</td>\n",
              "      <td>0.09463</td>\n",
              "      <td>0.10900</td>\n",
              "      <td>0.11270</td>\n",
              "      <td>0.07400</td>\n",
              "      <td>0.1794</td>\n",
              "      <td>0.05742</td>\n",
              "      <td>0.4467</td>\n",
              "      <td>0.7732</td>\n",
              "      <td>3.180</td>\n",
              "      <td>53.91</td>\n",
              "      <td>0.004314</td>\n",
              "      <td>0.01382</td>\n",
              "      <td>0.02254</td>\n",
              "      <td>0.01039</td>\n",
              "      <td>0.01369</td>\n",
              "      <td>0.002179</td>\n",
              "      <td>22.88</td>\n",
              "      <td>27.66</td>\n",
              "      <td>153.20</td>\n",
              "      <td>1606.0</td>\n",
              "      <td>0.1442</td>\n",
              "      <td>0.2576</td>\n",
              "      <td>0.3784</td>\n",
              "      <td>0.1932</td>\n",
              "      <td>0.3063</td>\n",
              "      <td>0.08368</td>\n",
              "    </tr>\n",
              "    <tr>\n",
              "      <th>7</th>\n",
              "      <td>Malignant</td>\n",
              "      <td>13.71</td>\n",
              "      <td>20.83</td>\n",
              "      <td>90.20</td>\n",
              "      <td>577.9</td>\n",
              "      <td>0.11890</td>\n",
              "      <td>0.16450</td>\n",
              "      <td>0.09366</td>\n",
              "      <td>0.05985</td>\n",
              "      <td>0.2196</td>\n",
              "      <td>0.07451</td>\n",
              "      <td>0.5835</td>\n",
              "      <td>1.3770</td>\n",
              "      <td>3.856</td>\n",
              "      <td>50.96</td>\n",
              "      <td>0.008805</td>\n",
              "      <td>0.03029</td>\n",
              "      <td>0.02488</td>\n",
              "      <td>0.01448</td>\n",
              "      <td>0.01486</td>\n",
              "      <td>0.005412</td>\n",
              "      <td>17.06</td>\n",
              "      <td>28.14</td>\n",
              "      <td>110.60</td>\n",
              "      <td>897.0</td>\n",
              "      <td>0.1654</td>\n",
              "      <td>0.3682</td>\n",
              "      <td>0.2678</td>\n",
              "      <td>0.1556</td>\n",
              "      <td>0.3196</td>\n",
              "      <td>0.11510</td>\n",
              "    </tr>\n",
              "    <tr>\n",
              "      <th>8</th>\n",
              "      <td>Malignant</td>\n",
              "      <td>13.00</td>\n",
              "      <td>21.82</td>\n",
              "      <td>87.50</td>\n",
              "      <td>519.8</td>\n",
              "      <td>0.12730</td>\n",
              "      <td>0.19320</td>\n",
              "      <td>0.18590</td>\n",
              "      <td>0.09353</td>\n",
              "      <td>0.2350</td>\n",
              "      <td>0.07389</td>\n",
              "      <td>0.3063</td>\n",
              "      <td>1.0020</td>\n",
              "      <td>2.406</td>\n",
              "      <td>24.32</td>\n",
              "      <td>0.005731</td>\n",
              "      <td>0.03502</td>\n",
              "      <td>0.03553</td>\n",
              "      <td>0.01226</td>\n",
              "      <td>0.02143</td>\n",
              "      <td>0.003749</td>\n",
              "      <td>15.49</td>\n",
              "      <td>30.73</td>\n",
              "      <td>106.20</td>\n",
              "      <td>739.3</td>\n",
              "      <td>0.1703</td>\n",
              "      <td>0.5401</td>\n",
              "      <td>0.5390</td>\n",
              "      <td>0.2060</td>\n",
              "      <td>0.4378</td>\n",
              "      <td>0.10720</td>\n",
              "    </tr>\n",
              "    <tr>\n",
              "      <th>9</th>\n",
              "      <td>Malignant</td>\n",
              "      <td>12.46</td>\n",
              "      <td>24.04</td>\n",
              "      <td>83.97</td>\n",
              "      <td>475.9</td>\n",
              "      <td>0.11860</td>\n",
              "      <td>0.23960</td>\n",
              "      <td>0.22730</td>\n",
              "      <td>0.08543</td>\n",
              "      <td>0.2030</td>\n",
              "      <td>0.08243</td>\n",
              "      <td>0.2976</td>\n",
              "      <td>1.5990</td>\n",
              "      <td>2.039</td>\n",
              "      <td>23.94</td>\n",
              "      <td>0.007149</td>\n",
              "      <td>0.07217</td>\n",
              "      <td>0.07743</td>\n",
              "      <td>0.01432</td>\n",
              "      <td>0.01789</td>\n",
              "      <td>0.010080</td>\n",
              "      <td>15.09</td>\n",
              "      <td>40.68</td>\n",
              "      <td>97.65</td>\n",
              "      <td>711.4</td>\n",
              "      <td>0.1853</td>\n",
              "      <td>1.0580</td>\n",
              "      <td>1.1050</td>\n",
              "      <td>0.2210</td>\n",
              "      <td>0.4366</td>\n",
              "      <td>0.20750</td>\n",
              "    </tr>\n",
              "  </tbody>\n",
              "</table>\n",
              "</div>"
            ],
            "text/plain": [
              "       Tumor  Feature 1  Feature 2  ...  Feature 28  Feature 29  Feature 30\n",
              "0  Malignant      17.99      10.38  ...      0.2654      0.4601     0.11890\n",
              "1  Malignant      20.57      17.77  ...      0.1860      0.2750     0.08902\n",
              "2  Malignant      19.69      21.25  ...      0.2430      0.3613     0.08758\n",
              "3  Malignant      11.42      20.38  ...      0.2575      0.6638     0.17300\n",
              "4  Malignant      20.29      14.34  ...      0.1625      0.2364     0.07678\n",
              "5  Malignant      12.45      15.70  ...      0.1741      0.3985     0.12440\n",
              "6  Malignant      18.25      19.98  ...      0.1932      0.3063     0.08368\n",
              "7  Malignant      13.71      20.83  ...      0.1556      0.3196     0.11510\n",
              "8  Malignant      13.00      21.82  ...      0.2060      0.4378     0.10720\n",
              "9  Malignant      12.46      24.04  ...      0.2210      0.4366     0.20750\n",
              "\n",
              "[10 rows x 31 columns]"
            ]
          },
          "metadata": {
            "tags": []
          },
          "execution_count": 3
        }
      ]
    },
    {
      "cell_type": "code",
      "metadata": {
        "id": "yfzKncmokSvY",
        "colab_type": "code",
        "outputId": "ad52cfd0-6eec-4e31-d120-1d2fe3676339",
        "colab": {
          "base_uri": "https://localhost:8080/",
          "height": 35
        }
      },
      "source": [
        "# Printujemy wartości unikalne kolumny zawierającej kategorie\n",
        "print(data.Tumor.unique())"
      ],
      "execution_count": 4,
      "outputs": [
        {
          "output_type": "stream",
          "text": [
            "['Malignant' 'Benign']\n"
          ],
          "name": "stdout"
        }
      ]
    },
    {
      "cell_type": "code",
      "metadata": {
        "id": "ed2kGhgEbGuF",
        "colab_type": "code",
        "colab": {
          "base_uri": "https://localhost:8080/",
          "height": 1000
        },
        "outputId": "1aff8ee3-0370-4740-e4ed-5f5c83ca0722"
      },
      "source": [
        "# Metadane, nie obowiązkowe do zapoznania się\n",
        "with open(\"wdbc.names\",\"rb\") as fh:\n",
        "  for line in fh.readlines():\n",
        "    print(line)"
      ],
      "execution_count": 5,
      "outputs": [
        {
          "output_type": "stream",
          "text": [
            "b'1. Title: Wisconsin Diagnostic Breast Cancer (WDBC)\\n'\n",
            "b'\\n'\n",
            "b'2. Source Information\\n'\n",
            "b'\\n'\n",
            "b'a) Creators: \\n'\n",
            "b'\\n'\n",
            "b'\\tDr. William H. Wolberg, General Surgery Dept., University of\\n'\n",
            "b'\\tWisconsin,  Clinical Sciences Center, Madison, WI 53792\\n'\n",
            "b'\\twolberg@eagle.surgery.wisc.edu\\n'\n",
            "b'\\n'\n",
            "b'\\tW. Nick Street, Computer Sciences Dept., University of\\n'\n",
            "b'\\tWisconsin, 1210 West Dayton St., Madison, WI 53706\\n'\n",
            "b'\\tstreet@cs.wisc.edu  608-262-6619\\n'\n",
            "b'\\n'\n",
            "b'\\tOlvi L. Mangasarian, Computer Sciences Dept., University of\\n'\n",
            "b'\\tWisconsin, 1210 West Dayton St., Madison, WI 53706\\n'\n",
            "b'\\tolvi@cs.wisc.edu \\n'\n",
            "b'\\n'\n",
            "b'b) Donor: Nick Street\\n'\n",
            "b'\\n'\n",
            "b'c) Date: November 1995\\n'\n",
            "b'\\n'\n",
            "b'3. Past Usage:\\n'\n",
            "b'\\n'\n",
            "b'first usage:\\n'\n",
            "b'\\n'\n",
            "b'\\tW.N. Street, W.H. Wolberg and O.L. Mangasarian \\n'\n",
            "b'\\tNuclear feature extraction for breast tumor diagnosis.\\n'\n",
            "b'\\tIS&T/SPIE 1993 International Symposium on Electronic Imaging: Science\\n'\n",
            "b'\\tand Technology, volume 1905, pages 861-870, San Jose, CA, 1993.\\n'\n",
            "b'\\n'\n",
            "b'OR literature:\\n'\n",
            "b'\\n'\n",
            "b'\\tO.L. Mangasarian, W.N. Street and W.H. Wolberg. \\n'\n",
            "b'\\tBreast cancer diagnosis and prognosis via linear programming. \\n'\n",
            "b'\\tOperations Research, 43(4), pages 570-577, July-August 1995.\\n'\n",
            "b'\\n'\n",
            "b'Medical literature:\\n'\n",
            "b'\\n'\n",
            "b'\\tW.H. Wolberg, W.N. Street, and O.L. Mangasarian. \\n'\n",
            "b'\\tMachine learning techniques to diagnose breast cancer from\\n'\n",
            "b'\\tfine-needle aspirates.  \\n'\n",
            "b'\\tCancer Letters 77 (1994) 163-171.\\n'\n",
            "b'\\n'\n",
            "b'\\tW.H. Wolberg, W.N. Street, and O.L. Mangasarian. \\n'\n",
            "b'\\tImage analysis and machine learning applied to breast cancer\\n'\n",
            "b'\\tdiagnosis and prognosis.  \\n'\n",
            "b'\\tAnalytical and Quantitative Cytology and Histology, Vol. 17\\n'\n",
            "b'\\tNo. 2, pages 77-87, April 1995. \\n'\n",
            "b'\\n'\n",
            "b'\\tW.H. Wolberg, W.N. Street, D.M. Heisey, and O.L. Mangasarian. \\n'\n",
            "b'\\tComputerized breast cancer diagnosis and prognosis from fine\\n'\n",
            "b'\\tneedle aspirates.  \\n'\n",
            "b'\\tArchives of Surgery 1995;130:511-516.\\n'\n",
            "b'\\n'\n",
            "b'\\tW.H. Wolberg, W.N. Street, D.M. Heisey, and O.L. Mangasarian. \\n'\n",
            "b'\\tComputer-derived nuclear features distinguish malignant from\\n'\n",
            "b'\\tbenign breast cytology.  \\n'\n",
            "b'\\tHuman Pathology, 26:792--796, 1995.\\n'\n",
            "b'\\n'\n",
            "b'See also:\\n'\n",
            "b'\\thttp://www.cs.wisc.edu/~olvi/uwmp/mpml.html\\n'\n",
            "b'\\thttp://www.cs.wisc.edu/~olvi/uwmp/cancer.html\\n'\n",
            "b'\\n'\n",
            "b'Results:\\n'\n",
            "b'\\n'\n",
            "b'\\t- predicting field 2, diagnosis: B = benign, M = malignant\\n'\n",
            "b'\\t- sets are linearly separable using all 30 input features\\n'\n",
            "b'\\t- best predictive accuracy obtained using one separating plane\\n'\n",
            "b'\\t\\tin the 3-D space of Worst Area, Worst Smoothness and\\n'\n",
            "b'\\t\\tMean Texture.  Estimated accuracy 97.5% using repeated\\n'\n",
            "b'\\t\\t10-fold crossvalidations.  Classifier has correctly\\n'\n",
            "b'\\t\\tdiagnosed 176 consecutive new patients as of November\\n'\n",
            "b'\\t\\t1995. \\n'\n",
            "b'\\n'\n",
            "b'4. Relevant information\\n'\n",
            "b'\\n'\n",
            "b'\\tFeatures are computed from a digitized image of a fine needle\\n'\n",
            "b'\\taspirate (FNA) of a breast mass.  They describe\\n'\n",
            "b'\\tcharacteristics of the cell nuclei present in the image.\\n'\n",
            "b'\\tA few of the images can be found at\\n'\n",
            "b'\\thttp://www.cs.wisc.edu/~street/images/\\n'\n",
            "b'\\n'\n",
            "b'\\tSeparating plane described above was obtained using\\n'\n",
            "b'\\tMultisurface Method-Tree (MSM-T) [K. P. Bennett, \"Decision Tree\\n'\n",
            "b'\\tConstruction Via Linear Programming.\" Proceedings of the 4th\\n'\n",
            "b'\\tMidwest Artificial Intelligence and Cognitive Science Society,\\n'\n",
            "b'\\tpp. 97-101, 1992], a classification method which uses linear\\n'\n",
            "b'\\tprogramming to construct a decision tree.  Relevant features\\n'\n",
            "b'\\twere selected using an exhaustive search in the space of 1-4\\n'\n",
            "b'\\tfeatures and 1-3 separating planes.\\n'\n",
            "b'\\n'\n",
            "b'\\tThe actual linear program used to obtain the separating plane\\n'\n",
            "b'\\tin the 3-dimensional space is that described in:\\n'\n",
            "b'\\t[K. P. Bennett and O. L. Mangasarian: \"Robust Linear\\n'\n",
            "b'\\tProgramming Discrimination of Two Linearly Inseparable Sets\",\\n'\n",
            "b'\\tOptimization Methods and Software 1, 1992, 23-34].\\n'\n",
            "b'\\n'\n",
            "b'\\n'\n",
            "b'\\tThis database is also available through the UW CS ftp server:\\n'\n",
            "b'\\n'\n",
            "b'\\tftp ftp.cs.wisc.edu\\n'\n",
            "b'\\tcd math-prog/cpo-dataset/machine-learn/WDBC/\\n'\n",
            "b'\\n'\n",
            "b'5. Number of instances: 569 \\n'\n",
            "b'\\n'\n",
            "b'6. Number of attributes: 32 (ID, diagnosis, 30 real-valued input features)\\n'\n",
            "b'\\n'\n",
            "b'7. Attribute information\\n'\n",
            "b'\\n'\n",
            "b'1) ID number\\n'\n",
            "b'2) Diagnosis (M = malignant, B = benign)\\n'\n",
            "b'3-32)\\n'\n",
            "b'\\n'\n",
            "b'Ten real-valued features are computed for each cell nucleus:\\n'\n",
            "b'\\n'\n",
            "b'\\ta) radius (mean of distances from center to points on the perimeter)\\n'\n",
            "b'\\tb) texture (standard deviation of gray-scale values)\\n'\n",
            "b'\\tc) perimeter\\n'\n",
            "b'\\td) area\\n'\n",
            "b'\\te) smoothness (local variation in radius lengths)\\n'\n",
            "b'\\tf) compactness (perimeter^2 / area - 1.0)\\n'\n",
            "b'\\tg) concavity (severity of concave portions of the contour)\\n'\n",
            "b'\\th) concave points (number of concave portions of the contour)\\n'\n",
            "b'\\ti) symmetry \\n'\n",
            "b'\\tj) fractal dimension (\"coastline approximation\" - 1)\\n'\n",
            "b'\\n'\n",
            "b'Several of the papers listed above contain detailed descriptions of\\n'\n",
            "b'how these features are computed. \\n'\n",
            "b'\\n'\n",
            "b'The mean, standard error, and \"worst\" or largest (mean of the three\\n'\n",
            "b'largest values) of these features were computed for each image,\\n'\n",
            "b'resulting in 30 features.  For instance, field 3 is Mean Radius, field\\n'\n",
            "b'13 is Radius SE, field 23 is Worst Radius.\\n'\n",
            "b'\\n'\n",
            "b'All feature values are recoded with four significant digits.\\n'\n",
            "b'\\n'\n",
            "b'8. Missing attribute values: none\\n'\n",
            "b'\\n'\n",
            "b'9. Class distribution: 357 benign, 212 malignant'\n"
          ],
          "name": "stdout"
        }
      ]
    },
    {
      "cell_type": "markdown",
      "metadata": {
        "id": "hf3n63O2gpJY",
        "colab_type": "text"
      },
      "source": [
        "## Importowanie bibliotek\n",
        "Korzystając z dobrodziejstw Google Collab zaimportujemy biblioteki bez których bylibyśmy jak pijane dziecko we mgle.\n"
      ]
    },
    {
      "cell_type": "code",
      "metadata": {
        "id": "ZlILuJAmfrsy",
        "colab_type": "code",
        "colab": {}
      },
      "source": [
        "import pandas\n",
        "from scipy import stats\n",
        "import itertools\n",
        "from sklearn import preprocessing, linear_model, model_selection, metrics\n",
        "from sklearn import decomposition, ensemble, feature_selection\n",
        "from sklearn.manifold import MDS\n",
        "import numpy\n",
        "from matplotlib import pyplot\n",
        "import operator\n",
        "%matplotlib inline"
      ],
      "execution_count": 0,
      "outputs": []
    },
    {
      "cell_type": "markdown",
      "metadata": {
        "id": "-prcje0vhtXf",
        "colab_type": "text"
      },
      "source": [
        "**Zadanie 1.**\n",
        "Sprawdź rozkład kolumn z datasetu WBC przy użyciu odpowiedniej funkcji z biblioteki `scipy.stats`\n",
        "\n",
        "**Zadanie 2.**\n",
        "Wytłumacz co oznacza wynik kodu z zadania pierwszego\n"
      ]
    },
    {
      "cell_type": "markdown",
      "metadata": {
        "id": "DaVJltBTzPEi",
        "colab_type": "text"
      },
      "source": [
        "## Tworzenie funkcji do sprawdzenia rozkładu zmiennych dla każdej z obecnych klas"
      ]
    },
    {
      "cell_type": "code",
      "metadata": {
        "id": "FyPAnozxhsLU",
        "colab_type": "code",
        "colab": {
          "base_uri": "https://localhost:8080/",
          "height": 1000
        },
        "outputId": "36208cb0-7af9-4644-ebb8-08f26bee487f"
      },
      "source": [
        "def StratifiedDistributionCheck(dataframe, list_of_tumors):\n",
        "  for tumor in list_of_tumors:\n",
        "    df = dataframe[dataframe.Tumor == tumor]\n",
        "    print(\"Results for {} tumor type\\n -----------------------\\n\".format(tumor))\n",
        "    for column in df.columns:\n",
        "      if column == \"Tumor\":\n",
        "        None\n",
        "      else:\n",
        "        p = stats.shapiro(df.loc[:,column])[1]\n",
        "        print(\"{0:s} Shapiro-Wilk test p-value equals {1:.3f}\\n\".format(\n",
        "            column,p))\n",
        "        if p > 0.05:\n",
        "          print(\"Column is at least sampled from Gaussian distribution\\n\\n\")\n",
        "        else:\n",
        "          print(\"Column's distribuition is not Gaussian\\n\\n\")\n",
        "\n",
        "StratifiedDistributionCheck(data,data.Tumor.unique())"
      ],
      "execution_count": 7,
      "outputs": [
        {
          "output_type": "stream",
          "text": [
            "Results for Malignant tumor type\n",
            " -----------------------\n",
            "\n",
            "Feature 1 Shapiro-Wilk test p-value equals 0.002\n",
            "\n",
            "Column's distribuition is not Gaussian\n",
            "\n",
            "\n",
            "Feature 2 Shapiro-Wilk test p-value equals 0.000\n",
            "\n",
            "Column's distribuition is not Gaussian\n",
            "\n",
            "\n",
            "Feature 3 Shapiro-Wilk test p-value equals 0.000\n",
            "\n",
            "Column's distribuition is not Gaussian\n",
            "\n",
            "\n",
            "Feature 4 Shapiro-Wilk test p-value equals 0.000\n",
            "\n",
            "Column's distribuition is not Gaussian\n",
            "\n",
            "\n",
            "Feature 5 Shapiro-Wilk test p-value equals 0.021\n",
            "\n",
            "Column's distribuition is not Gaussian\n",
            "\n",
            "\n",
            "Feature 6 Shapiro-Wilk test p-value equals 0.000\n",
            "\n",
            "Column's distribuition is not Gaussian\n",
            "\n",
            "\n",
            "Feature 7 Shapiro-Wilk test p-value equals 0.000\n",
            "\n",
            "Column's distribuition is not Gaussian\n",
            "\n",
            "\n",
            "Feature 8 Shapiro-Wilk test p-value equals 0.000\n",
            "\n",
            "Column's distribuition is not Gaussian\n",
            "\n",
            "\n",
            "Feature 9 Shapiro-Wilk test p-value equals 0.000\n",
            "\n",
            "Column's distribuition is not Gaussian\n",
            "\n",
            "\n",
            "Feature 10 Shapiro-Wilk test p-value equals 0.000\n",
            "\n",
            "Column's distribuition is not Gaussian\n",
            "\n",
            "\n",
            "Feature 11 Shapiro-Wilk test p-value equals 0.000\n",
            "\n",
            "Column's distribuition is not Gaussian\n",
            "\n",
            "\n",
            "Feature 12 Shapiro-Wilk test p-value equals 0.000\n",
            "\n",
            "Column's distribuition is not Gaussian\n",
            "\n",
            "\n",
            "Feature 13 Shapiro-Wilk test p-value equals 0.000\n",
            "\n",
            "Column's distribuition is not Gaussian\n",
            "\n",
            "\n",
            "Feature 14 Shapiro-Wilk test p-value equals 0.000\n",
            "\n",
            "Column's distribuition is not Gaussian\n",
            "\n",
            "\n",
            "Feature 15 Shapiro-Wilk test p-value equals 0.000\n",
            "\n",
            "Column's distribuition is not Gaussian\n",
            "\n",
            "\n",
            "Feature 16 Shapiro-Wilk test p-value equals 0.000\n",
            "\n",
            "Column's distribuition is not Gaussian\n",
            "\n",
            "\n",
            "Feature 17 Shapiro-Wilk test p-value equals 0.000\n",
            "\n",
            "Column's distribuition is not Gaussian\n",
            "\n",
            "\n",
            "Feature 18 Shapiro-Wilk test p-value equals 0.000\n",
            "\n",
            "Column's distribuition is not Gaussian\n",
            "\n",
            "\n",
            "Feature 19 Shapiro-Wilk test p-value equals 0.000\n",
            "\n",
            "Column's distribuition is not Gaussian\n",
            "\n",
            "\n",
            "Feature 20 Shapiro-Wilk test p-value equals 0.000\n",
            "\n",
            "Column's distribuition is not Gaussian\n",
            "\n",
            "\n",
            "Feature 21 Shapiro-Wilk test p-value equals 0.000\n",
            "\n",
            "Column's distribuition is not Gaussian\n",
            "\n",
            "\n",
            "Feature 22 Shapiro-Wilk test p-value equals 0.002\n",
            "\n",
            "Column's distribuition is not Gaussian\n",
            "\n",
            "\n",
            "Feature 23 Shapiro-Wilk test p-value equals 0.000\n",
            "\n",
            "Column's distribuition is not Gaussian\n",
            "\n",
            "\n",
            "Feature 24 Shapiro-Wilk test p-value equals 0.000\n",
            "\n",
            "Column's distribuition is not Gaussian\n",
            "\n",
            "\n",
            "Feature 25 Shapiro-Wilk test p-value equals 0.023\n",
            "\n",
            "Column's distribuition is not Gaussian\n",
            "\n",
            "\n",
            "Feature 26 Shapiro-Wilk test p-value equals 0.000\n",
            "\n",
            "Column's distribuition is not Gaussian\n",
            "\n",
            "\n",
            "Feature 27 Shapiro-Wilk test p-value equals 0.000\n",
            "\n",
            "Column's distribuition is not Gaussian\n",
            "\n",
            "\n",
            "Feature 28 Shapiro-Wilk test p-value equals 0.587\n",
            "\n",
            "Column is at least sampled from Gaussian distribution\n",
            "\n",
            "\n",
            "Feature 29 Shapiro-Wilk test p-value equals 0.000\n",
            "\n",
            "Column's distribuition is not Gaussian\n",
            "\n",
            "\n",
            "Feature 30 Shapiro-Wilk test p-value equals 0.000\n",
            "\n",
            "Column's distribuition is not Gaussian\n",
            "\n",
            "\n",
            "Results for Benign tumor type\n",
            " -----------------------\n",
            "\n",
            "Feature 1 Shapiro-Wilk test p-value equals 0.668\n",
            "\n",
            "Column is at least sampled from Gaussian distribution\n",
            "\n",
            "\n",
            "Feature 2 Shapiro-Wilk test p-value equals 0.000\n",
            "\n",
            "Column's distribuition is not Gaussian\n",
            "\n",
            "\n",
            "Feature 3 Shapiro-Wilk test p-value equals 0.779\n",
            "\n",
            "Column is at least sampled from Gaussian distribution\n",
            "\n",
            "\n",
            "Feature 4 Shapiro-Wilk test p-value equals 0.023\n",
            "\n",
            "Column's distribuition is not Gaussian\n",
            "\n",
            "\n",
            "Feature 5 Shapiro-Wilk test p-value equals 0.000\n",
            "\n",
            "Column's distribuition is not Gaussian\n",
            "\n",
            "\n",
            "Feature 6 Shapiro-Wilk test p-value equals 0.000\n",
            "\n",
            "Column's distribuition is not Gaussian\n",
            "\n",
            "\n",
            "Feature 7 Shapiro-Wilk test p-value equals 0.000\n",
            "\n",
            "Column's distribuition is not Gaussian\n",
            "\n",
            "\n",
            "Feature 8 Shapiro-Wilk test p-value equals 0.000\n",
            "\n",
            "Column's distribuition is not Gaussian\n",
            "\n",
            "\n",
            "Feature 9 Shapiro-Wilk test p-value equals 0.000\n",
            "\n",
            "Column's distribuition is not Gaussian\n",
            "\n",
            "\n",
            "Feature 10 Shapiro-Wilk test p-value equals 0.000\n",
            "\n",
            "Column's distribuition is not Gaussian\n",
            "\n",
            "\n",
            "Feature 11 Shapiro-Wilk test p-value equals 0.000\n",
            "\n",
            "Column's distribuition is not Gaussian\n",
            "\n",
            "\n",
            "Feature 12 Shapiro-Wilk test p-value equals 0.000\n",
            "\n",
            "Column's distribuition is not Gaussian\n",
            "\n",
            "\n",
            "Feature 13 Shapiro-Wilk test p-value equals 0.000\n",
            "\n",
            "Column's distribuition is not Gaussian\n",
            "\n",
            "\n",
            "Feature 14 Shapiro-Wilk test p-value equals 0.000\n",
            "\n",
            "Column's distribuition is not Gaussian\n",
            "\n",
            "\n",
            "Feature 15 Shapiro-Wilk test p-value equals 0.000\n",
            "\n",
            "Column's distribuition is not Gaussian\n",
            "\n",
            "\n",
            "Feature 16 Shapiro-Wilk test p-value equals 0.000\n",
            "\n",
            "Column's distribuition is not Gaussian\n",
            "\n",
            "\n",
            "Feature 17 Shapiro-Wilk test p-value equals 0.000\n",
            "\n",
            "Column's distribuition is not Gaussian\n",
            "\n",
            "\n",
            "Feature 18 Shapiro-Wilk test p-value equals 0.000\n",
            "\n",
            "Column's distribuition is not Gaussian\n",
            "\n",
            "\n",
            "Feature 19 Shapiro-Wilk test p-value equals 0.000\n",
            "\n",
            "Column's distribuition is not Gaussian\n",
            "\n",
            "\n",
            "Feature 20 Shapiro-Wilk test p-value equals 0.000\n",
            "\n",
            "Column's distribuition is not Gaussian\n",
            "\n",
            "\n",
            "Feature 21 Shapiro-Wilk test p-value equals 0.694\n",
            "\n",
            "Column is at least sampled from Gaussian distribution\n",
            "\n",
            "\n",
            "Feature 22 Shapiro-Wilk test p-value equals 0.000\n",
            "\n",
            "Column's distribuition is not Gaussian\n",
            "\n",
            "\n",
            "Feature 23 Shapiro-Wilk test p-value equals 0.712\n",
            "\n",
            "Column is at least sampled from Gaussian distribution\n",
            "\n",
            "\n",
            "Feature 24 Shapiro-Wilk test p-value equals 0.010\n",
            "\n",
            "Column's distribuition is not Gaussian\n",
            "\n",
            "\n",
            "Feature 25 Shapiro-Wilk test p-value equals 0.020\n",
            "\n",
            "Column's distribuition is not Gaussian\n",
            "\n",
            "\n",
            "Feature 26 Shapiro-Wilk test p-value equals 0.000\n",
            "\n",
            "Column's distribuition is not Gaussian\n",
            "\n",
            "\n",
            "Feature 27 Shapiro-Wilk test p-value equals 0.000\n",
            "\n",
            "Column's distribuition is not Gaussian\n",
            "\n",
            "\n",
            "Feature 28 Shapiro-Wilk test p-value equals 0.044\n",
            "\n",
            "Column's distribuition is not Gaussian\n",
            "\n",
            "\n",
            "Feature 29 Shapiro-Wilk test p-value equals 0.226\n",
            "\n",
            "Column is at least sampled from Gaussian distribution\n",
            "\n",
            "\n",
            "Feature 30 Shapiro-Wilk test p-value equals 0.000\n",
            "\n",
            "Column's distribuition is not Gaussian\n",
            "\n",
            "\n"
          ],
          "name": "stdout"
        }
      ]
    },
    {
      "cell_type": "code",
      "metadata": {
        "id": "Kd6W_ePcr3Y8",
        "colab_type": "code",
        "colab": {
          "base_uri": "https://localhost:8080/",
          "height": 135
        },
        "outputId": "c95ac049-ba2e-4404-fd8e-f20fa895a329"
      },
      "source": [
        "# Uzupełnij kod funkcji przedstawionej poniżej\n",
        "\n",
        "def StratifiedDistributionCheck(dataframe, list_of_tumors):\n",
        "  for tumor in list_of_tumors:\n",
        "    df = dataframe[dataframe.Tumor == tumor]\n",
        "    print(\"Wyniki dla {} tumor type\\n -----------------------\\n\".format(tumor))\n",
        "    for column in df.columns:\n",
        "      if column == \"<NAZWA_KOLUMNY_DO_POMINIĘCIA>\":\n",
        "        None\n",
        "      else:\n",
        "        p = stats.<NAZWA_FUNKCJI>(df.loc[:,column])[1]\n",
        "        print(\"{0:s} <NAZWA_TESTU> test p-value wynosi {1:.3f}\\n\".format(\n",
        "            column,p))\n",
        "        if p > 0.05:\n",
        "          print(\"Twoje wytłumaczenie wyniku działania konstrukcji warunkowej\")\n",
        "        else:\n",
        "          print(\"Twoje wytłumaczenie wyniku działania konstrukcji warunkowej\")\n",
        "\n",
        "StratifiedDistributionCheck(data,data.Tumor.unique())"
      ],
      "execution_count": 8,
      "outputs": [
        {
          "output_type": "error",
          "ename": "SyntaxError",
          "evalue": "ignored",
          "traceback": [
            "\u001b[0;36m  File \u001b[0;32m\"<ipython-input-8-2d4ac1d528d2>\"\u001b[0;36m, line \u001b[0;32m10\u001b[0m\n\u001b[0;31m    p = stats.<NAZWA_FUNKCJI>(df.loc[:,column])[1]\u001b[0m\n\u001b[0m              ^\u001b[0m\n\u001b[0;31mSyntaxError\u001b[0m\u001b[0;31m:\u001b[0m invalid syntax\n"
          ]
        }
      ]
    },
    {
      "cell_type": "markdown",
      "metadata": {
        "id": "ZiBZzaKqz4eO",
        "colab_type": "text"
      },
      "source": [
        "# Data Science w praktyce\n",
        "W tej części zobaczycie (i mam nadzieję też zrozumiecie, co z czym się je)"
      ]
    },
    {
      "cell_type": "markdown",
      "metadata": {
        "id": "iAMXoMs2yCNC",
        "colab_type": "text"
      },
      "source": [
        "## Definiowanie modelu regresji logistycznej z użyciem `sklearn`\n",
        "Stworzymy teraz funkcje zwracające model oraz wynik działania modelu na danych wejściowych, tak aby móc porównać wpływ różnych metod redukcji wymiarów na dane (oraz zobaczyć jak przebiega klasyfikacja w przypadku oryginalnych danych).\n",
        "\n",
        "Najpierw jednak rozbijemy DataFrame na 2 macierze, zawierające dane numeryczne, potrzebne do wytrenowania i testowania modelu, oraz zawierające binarnie enkodowane typy guza."
      ]
    },
    {
      "cell_type": "code",
      "metadata": {
        "id": "YvZ_rGMt2maT",
        "colab_type": "code",
        "outputId": "9061ae88-910f-49cd-df87-731895ab12eb",
        "colab": {
          "base_uri": "https://localhost:8080/",
          "height": 476
        }
      },
      "source": [
        "X = data.iloc[:,1:].values\n",
        "Y_str = data.iloc[:,0]\n",
        "lb = preprocessing.LabelBinarizer()\n",
        "lb.fit(Y_str)\n",
        "print(\"Typy guzów do binaryzacji\\n {} = 0\\n {} = 1\".format(lb.classes_[0],\n",
        "                                                               lb.classes_[1]))\n",
        "Y = lb.transform(Y_str)\n",
        "print(\"\\nRozmiar matrycy X\\n{}\".format(X.shape))\n",
        "print(\"\\nPierwsze dwa rzędy X\\n{}\".format(X[:2,:]))\n",
        "print(\"\\nRozmiar matrycy Y\\n{}\".format(Y.shape))\n",
        "print(\"\\nPierwsze dwa typy guzów Y\\n{}\".format(Y[:2,:]))\n"
      ],
      "execution_count": 19,
      "outputs": [
        {
          "output_type": "stream",
          "text": [
            "Typy guzów do binaryzacji\n",
            " Benign = 0\n",
            " Malignant = 1\n",
            "\n",
            "Rozmiar matrycy X\n",
            "(569, 30)\n",
            "\n",
            "Pierwsze dwa rzędy X\n",
            "[[1.799e+01 1.038e+01 1.228e+02 1.001e+03 1.184e-01 2.776e-01 3.001e-01\n",
            "  1.471e-01 2.419e-01 7.871e-02 1.095e+00 9.053e-01 8.589e+00 1.534e+02\n",
            "  6.399e-03 4.904e-02 5.373e-02 1.587e-02 3.003e-02 6.193e-03 2.538e+01\n",
            "  1.733e+01 1.846e+02 2.019e+03 1.622e-01 6.656e-01 7.119e-01 2.654e-01\n",
            "  4.601e-01 1.189e-01]\n",
            " [2.057e+01 1.777e+01 1.329e+02 1.326e+03 8.474e-02 7.864e-02 8.690e-02\n",
            "  7.017e-02 1.812e-01 5.667e-02 5.435e-01 7.339e-01 3.398e+00 7.408e+01\n",
            "  5.225e-03 1.308e-02 1.860e-02 1.340e-02 1.389e-02 3.532e-03 2.499e+01\n",
            "  2.341e+01 1.588e+02 1.956e+03 1.238e-01 1.866e-01 2.416e-01 1.860e-01\n",
            "  2.750e-01 8.902e-02]]\n",
            "\n",
            "Rozmiar matrycy Y\n",
            "(569, 1)\n",
            "\n",
            "Pierwsze dwa typy guzów Y\n",
            "[[1]\n",
            " [1]]\n"
          ],
          "name": "stdout"
        }
      ]
    },
    {
      "cell_type": "markdown",
      "metadata": {
        "id": "WPpO-UqNrx5M",
        "colab_type": "text"
      },
      "source": [
        "### Sztuczne zwiększenie wymiarowości danych - nie róbcie tego w domu\n",
        "Jako że jest to jeden z prostszych datasetów do nauki ML to żeby nie było za łatwo, dodamy randomowy szum gaussowski i nieparametryczny do danych, tak aby sztucznie zwiększyć ich wymiarowość\n"
      ]
    },
    {
      "cell_type": "code",
      "metadata": {
        "id": "i1TY1zZDsLCv",
        "colab_type": "code",
        "colab": {}
      },
      "source": [
        "def AddArtificialData(X, random_state = 2137, art_columns = X.shape[1]):\n",
        "  numpy.random.seed(seed = random_state)\n",
        "  X_artif = numpy.zeros(shape=(X.shape[0], X.shape[1]+art_columns))\n",
        "  for i in range(X_artif.shape[1]):\n",
        "    condition1 = numpy.random.randint(0,2)\n",
        "    if condition1 == 0:\n",
        "      X_artif[:,i] = numpy.random.normal(numpy.random.randint(20,90),numpy.random.randint(5,20),)\n",
        "    else:\n",
        "      condition2 = numpy.random.randint(0,2)\n",
        "      if condition2 == 0:\n",
        "        X_artif[:,i] = numpy.random.rayleigh(scale = numpy.random.randint(1,90),\n",
        "                                             size = X.shape[0])\n",
        "      else:\n",
        "        X_artif[:,i] = numpy.random.rand(X_artif.shape[0])\n",
        "  \n",
        "  X_artif[:,:X.shape[1]] = X\n",
        "  return X_artif\n"
      ],
      "execution_count": 0,
      "outputs": []
    },
    {
      "cell_type": "code",
      "metadata": {
        "id": "9b-bb0okt8QI",
        "colab_type": "code",
        "colab": {}
      },
      "source": [
        "X = AddArtificialData(X, random_state = 90)"
      ],
      "execution_count": 0,
      "outputs": []
    },
    {
      "cell_type": "markdown",
      "metadata": {
        "id": "MZtTprPb5SDe",
        "colab_type": "text"
      },
      "source": [
        "Poniższa funkcja zwracać będzie gotowy wytrenowany model, wynik działania tego modelu oraz metryki do późniejszego benchmarku"
      ]
    },
    {
      "cell_type": "code",
      "metadata": {
        "id": "go3VsXxbzKqK",
        "colab_type": "code",
        "colab": {}
      },
      "source": [
        "def LogitModel(X, Y, penalty = \"l1\", reg = 0.2, solver = \"liblinear\",\n",
        "               random_state = 2137, n_iter = 100, split = 0.7, verbose = 1):\n",
        "  Y = Y.ravel()\n",
        "  c = 1 - reg\n",
        "  s = 1 - split\n",
        "  clf = linear_model.LogisticRegression(penalty = penalty,\n",
        "                                        C = 1-reg,\n",
        "                                        solver = solver,\n",
        "                                        random_state = random_state,\n",
        "                                        max_iter = n_iter,\n",
        "                                        verbose = verbose,\n",
        "                                        )\n",
        "  X_train, X_test, Y_train, Y_test = model_selection.train_test_split(X, Y,\n",
        "                                                                      test_size = s,\n",
        "                                                                      random_state = random_state)\n",
        "  \n",
        "  clf = clf.fit(X_train, Y_train)\n",
        "  Y_pred = clf.predict(X_test)\n",
        "  scores = {}\n",
        "  scores[\"Mean Accuracy\"] = clf.score(X_test, Y_test)\n",
        "  scores[\"F1\"] = metrics.f1_score(Y_test, Y_pred)\n",
        "  scores[\"AUC\"] = metrics.roc_auc_score(Y_test, Y_pred)\n",
        "  scores[\"Confusion Matrix\"] = metrics.confusion_matrix(Y_test, Y_pred)\n",
        "  scores[\"ROC Curve\"] = metrics.roc_curve(Y_test, Y_pred)\n",
        "  \n",
        "  pyplot.matshow(scores[\"Confusion Matrix\"])\n",
        "  pyplot.title(\"Confusion Matrix\")\n",
        "  pyplot.colorbar()\n",
        "  pyplot.ylabel(\"True label\")\n",
        "  pyplot.xlabel(\"Predicted Label\")\n",
        "  pyplot.show()\n",
        "\n",
        "  fpr, tpr, _ = metrics.roc_curve(Y_test.ravel(), Y_pred.ravel())\n",
        "  roc_auc = metrics.auc(fpr, tpr)\n",
        "\n",
        "  pyplot.figure()\n",
        "  lw = 2\n",
        "  pyplot.plot(fpr, tpr, color='darkorange',\n",
        "          lw=lw, label='ROC curve (area = %0.3f)' % roc_auc)\n",
        "  pyplot.plot([0, 1], [0, 1], color='navy', lw=lw, linestyle='--')\n",
        "  pyplot.xlim([0.0, 1.0])\n",
        "  pyplot.ylim([0.0, 1.05])\n",
        "  pyplot.xlabel('False Positive Rate')\n",
        "  pyplot.ylabel('True Positive Rate')\n",
        "  pyplot.title('Receiver operating characteristic example')\n",
        "  pyplot.legend(loc=\"lower right\")\n",
        "  pyplot.show()\n",
        "\n",
        "\n",
        "  for i, v in scores.items():\n",
        "    if i == \"Confusion Matrix\":\n",
        "      print(\"{}\\n{}\".format(i,v))\n",
        "    elif i == \"ROC Curve\":\n",
        "      None\n",
        "    else:\n",
        "      print(\"{0:s} metic has value of {1:.3f}\".format(i,v))\n",
        "  return (clf, Y_test, Y_pred, scores)\n",
        "  \n"
      ],
      "execution_count": 0,
      "outputs": []
    },
    {
      "cell_type": "markdown",
      "metadata": {
        "id": "VaoYd7uKPVt5",
        "colab_type": "text"
      },
      "source": [
        "## Redukcja wymiarowości danych"
      ]
    },
    {
      "cell_type": "markdown",
      "metadata": {
        "id": "UksecyLoIorg",
        "colab_type": "text"
      },
      "source": [
        "**Zadanie 3**\n",
        "\n",
        "Zastosuj [PCA](https://scikit-learn.org/stable/modules/generated/sklearn.decomposition.PCA.html), [MDS](https://scikit-learn.org/stable/modules/generated/sklearn.manifold.MDS.html), [Feature Selection bazujące na drzewach decyzyjnych](https://scikit-learn.org/stable/modules/feature_selection.html#tree-based-feature-selection) oraz Infinite Feature Selection na danych wejściowych. Empirycznie dobierz najlepsze parametry (wskazane w kodzie)\n",
        "\n",
        "\n",
        "**Zadanie 4** \n",
        "\n",
        "Zastosuj funkcję `LogitModel` na danych otrzymanych w zadaniu trzecim i określ który model dał najlepsze wyniki oraz jaka może być tego przyczyna.\n",
        "\n"
      ]
    },
    {
      "cell_type": "markdown",
      "metadata": {
        "id": "4TAtBhMFSQ4e",
        "colab_type": "text"
      },
      "source": [
        "<u>Dla przypomnienia - wymiarowość pełnego zestawu danych</u>\n"
      ]
    },
    {
      "cell_type": "code",
      "metadata": {
        "id": "VHSiOzHMSQDR",
        "colab_type": "code",
        "outputId": "f8b62abe-9777-4cce-ce65-7d0c1fdac247",
        "colab": {
          "base_uri": "https://localhost:8080/",
          "height": 35
        }
      },
      "source": [
        "X.shape[1]"
      ],
      "execution_count": 70,
      "outputs": [
        {
          "output_type": "execute_result",
          "data": {
            "text/plain": [
              "60"
            ]
          },
          "metadata": {
            "tags": []
          },
          "execution_count": 70
        }
      ]
    },
    {
      "cell_type": "markdown",
      "metadata": {
        "id": "MFZatqj2KQ9D",
        "colab_type": "text"
      },
      "source": [
        "### Infinite Feature Selection jako metoda alternatywna\n",
        "![obraz.png](data:image/png;base64,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)"
      ]
    },
    {
      "cell_type": "code",
      "metadata": {
        "id": "F0q0uI9BTRNZ",
        "colab_type": "code",
        "colab": {}
      },
      "source": [
        "def InfiniteFeatureSelection(X, n_features, alpha):\n",
        "  all_permutations = list(itertools.permutations(range(X.shape[1]), 2))\n",
        "  importance_scores = []\n",
        "  max_var_idx = []\n",
        "  feature_idx = list(range(n_features))\n",
        "  X_important = numpy.zeros(shape = (X.shape[0], n_features))\n",
        "  \n",
        "  for element in all_permutations:\n",
        "    element1 = element[0]\n",
        "    element2 = element[1]\n",
        "    v1 = numpy.var(X[:,element1])\n",
        "    v2 = numpy.var(X[:,element2])\n",
        "\n",
        "    max_var = max(v1,v2)\n",
        "    if max_var == v1:\n",
        "      max_var_idx.append(str(element1))\n",
        "    else:\n",
        "      max_var_idx.append(str(element2))\n",
        "    \n",
        "    spearman_coef, p = stats.spearmanr(X[:,element1], X[:,element2])\n",
        "    reg_max_var = numpy.multiply(alpha,max_var)\n",
        "    reg_spearman_based_coef = numpy.multiply((1 - alpha),\n",
        "                                          (1 - numpy.abs(spearman_coef)))\n",
        "    importance_score =  reg_max_var + reg_spearman_based_coef\n",
        "    importance_scores.append(importance_score)\n",
        "  \n",
        "  data = {\"Max_var_idx\":max_var_idx, \"Importance_scores\":importance_scores}\n",
        "  importance_df = pandas.DataFrame(data = data)\n",
        "  sum_scores = {}\n",
        "  for unq in importance_df.Max_var_idx.unique():\n",
        "    temp_df = importance_df.loc[importance_df.Max_var_idx == unq,:]\n",
        "    colsum = temp_df.Importance_scores.sum(axis=0)\n",
        "    sum_scores[str(unq)] = colsum\n",
        "  sorted_scores = sorted(sum_scores.items(), key=operator.itemgetter(1),\n",
        "                         reverse = True)\n",
        "  most_important_features = list(operator.itemgetter(*feature_idx)(sorted_scores))\n",
        "  for i in range(n_features):\n",
        "    X_important[:,i] = X[:,int(most_important_features[i][0])]\n",
        "\n",
        "  return (X_important, importance_df)\n",
        "\n"
      ],
      "execution_count": 0,
      "outputs": []
    },
    {
      "cell_type": "code",
      "metadata": {
        "id": "UPtGypdlImdr",
        "colab_type": "code",
        "outputId": "3b05868a-65d9-41a2-b1be-e61cf144c917",
        "colab": {
          "base_uri": "https://localhost:8080/",
          "height": 715
        }
      },
      "source": [
        "#PCA - Manipuluj wartością \"n_components\"\n",
        "\n",
        "start = time.time()\n",
        "pca = decomposition.PCA(n_components = 10, random_state = 2137, svd_solver=\"auto\")\n",
        "pca.fit(X,Y.ravel())\n",
        "for i in range(len(pca.explained_variance_ratio_)):\n",
        "  print(\"\\nExplained Variance for PC{0:}: {1:.2f}%\".format(i,pca.explained_variance_ratio_[i]*100))\n",
        "X_pca = pca.transform(X)\n",
        "print(\"\\nPCA zajęło {} sekund\".format(time.time() - start))\n",
        "\n",
        "#MDS - Manipuluj wartościami \"n_components\", \"dissimilarity\" i \"max_iter\"\n",
        "\n",
        "start = time.time()\n",
        "mds = MDS(n_components = 10, random_state = 2137,\n",
        "          dissimilarity = \"euclidean\", max_iter = 300)\n",
        "X_mds = mds.fit_transform(X)\n",
        "print(\"\\nMDS zajęło {} sekund\".format(time.time() - start))\n",
        "\n",
        "#Decision Tree - Manipuluj wartością \"n_estimators\"\n",
        "\n",
        "start = time.time()\n",
        "tree_clf = ensemble.ExtraTreesClassifier(n_estimators = 1000,    \n",
        "                                         random_state=2137)\n",
        "tree_clf = tree_clf.fit(X, Y.ravel())\n",
        "feature_model = feature_selection.SelectFromModel(tree_clf, prefit = True)\n",
        "X_tree = feature_model.transform(X)\n",
        "print(\"\\nUtworzenie drzew zajęło {} sekund\".format(time.time() - start))\n",
        "\n",
        "#Infinite Feature Selection - Manipuluj wartościami n_features oraz alpha\n",
        "\n",
        "start = time.time()\n",
        "X_inf, Inf_df = InfiniteFeatureSelection(X, n_features = 10, alpha = 0.3)\n",
        "print(\"\\nInfinite Feature Selection zajęło {} sekund\".format(time.time() - start))"
      ],
      "execution_count": 26,
      "outputs": [
        {
          "output_type": "stream",
          "text": [
            "\n",
            "Explained Variance for PC0: 95.33%\n",
            "\n",
            "Explained Variance for PC1: 1.57%\n",
            "\n",
            "Explained Variance for PC2: 0.65%\n",
            "\n",
            "Explained Variance for PC3: 0.53%\n",
            "\n",
            "Explained Variance for PC4: 0.45%\n",
            "\n",
            "Explained Variance for PC5: 0.38%\n",
            "\n",
            "Explained Variance for PC6: 0.26%\n",
            "\n",
            "Explained Variance for PC7: 0.21%\n",
            "\n",
            "Explained Variance for PC8: 0.19%\n",
            "\n",
            "Explained Variance for PC9: 0.16%\n",
            "\n",
            "PCA zajęło 0.009927988052368164 sekund\n",
            "\n",
            "MDS zajęło 9.434738636016846 sekund\n",
            "\n",
            "Utworzenie drzew zajęło 1.265345811843872 sekund\n"
          ],
          "name": "stdout"
        },
        {
          "output_type": "stream",
          "text": [
            "/usr/local/lib/python3.6/dist-packages/numpy/lib/function_base.py:2534: RuntimeWarning: invalid value encountered in true_divide\n",
            "  c /= stddev[:, None]\n",
            "/usr/local/lib/python3.6/dist-packages/numpy/lib/function_base.py:2535: RuntimeWarning: invalid value encountered in true_divide\n",
            "  c /= stddev[None, :]\n",
            "/usr/local/lib/python3.6/dist-packages/scipy/stats/_distn_infrastructure.py:901: RuntimeWarning: invalid value encountered in greater\n",
            "  return (a < x) & (x < b)\n",
            "/usr/local/lib/python3.6/dist-packages/scipy/stats/_distn_infrastructure.py:901: RuntimeWarning: invalid value encountered in less\n",
            "  return (a < x) & (x < b)\n",
            "/usr/local/lib/python3.6/dist-packages/scipy/stats/_distn_infrastructure.py:1892: RuntimeWarning: invalid value encountered in less_equal\n",
            "  cond2 = cond0 & (x <= _a)\n"
          ],
          "name": "stderr"
        },
        {
          "output_type": "stream",
          "text": [
            "\n",
            "Infinite Feature Selection zajęło 2.705153226852417 sekund\n"
          ],
          "name": "stdout"
        }
      ]
    },
    {
      "cell_type": "markdown",
      "metadata": {
        "id": "TbzHdPRRPcFC",
        "colab_type": "text"
      },
      "source": [
        "<b>Wyniki dla X (pełnowymiarowych danych)</b>"
      ]
    },
    {
      "cell_type": "code",
      "metadata": {
        "id": "XSdiNLPjPifF",
        "colab_type": "code",
        "outputId": "48f6cde6-1b6f-472f-b438-67a8752861dd",
        "colab": {
          "base_uri": "https://localhost:8080/",
          "height": 664
        }
      },
      "source": [
        "results_X = LogitModel(X, Y)"
      ],
      "execution_count": 30,
      "outputs": [
        {
          "output_type": "stream",
          "text": [
            "[LibLinear]"
          ],
          "name": "stdout"
        },
        {
          "output_type": "display_data",
          "data": {
            "image/png": "[encoded data removed]",
            "text/plain": [
              "<Figure size 288x288 with 2 Axes>"
            ]
          },
          "metadata": {
            "tags": []
          }
        },
        {
          "output_type": "display_data",
          "data": {
            "image/png": "[encoded data removed]",
            "text/plain": [
              "<Figure size 432x288 with 1 Axes>"
            ]
          },
          "metadata": {
            "tags": []
          }
        },
        {
          "output_type": "stream",
          "text": [
            "Mean Accuracy metic has value of 0.947\n",
            "F1 metic has value of 0.927\n",
            "AUC metic has value of 0.936\n",
            "Confusion Matrix\n",
            "[[105   2]\n",
            " [  7  57]]\n"
          ],
          "name": "stdout"
        }
      ]
    },
    {
      "cell_type": "markdown",
      "metadata": {
        "id": "fblgm9ESOl9S",
        "colab_type": "text"
      },
      "source": [
        "<b> Wyniki dla X_pca </b>\n"
      ]
    },
    {
      "cell_type": "code",
      "metadata": {
        "id": "8BxxC_fxOkt5",
        "colab_type": "code",
        "outputId": "b71fbbd5-35f5-4e4e-aac6-87a1317786f7",
        "colab": {
          "base_uri": "https://localhost:8080/",
          "height": 664
        }
      },
      "source": [
        "results_PCA = LogitModel(X_pca, Y)"
      ],
      "execution_count": 31,
      "outputs": [
        {
          "output_type": "stream",
          "text": [
            "[LibLinear]"
          ],
          "name": "stdout"
        },
        {
          "output_type": "display_data",
          "data": {
            "image/png": "[encoded data removed]",
            "text/plain": [
              "<Figure size 288x288 with 2 Axes>"
            ]
          },
          "metadata": {
            "tags": []
          }
        },
        {
          "output_type": "display_data",
          "data": {
            "image/png": "[encoded data removed]",
            "text/plain": [
              "<Figure size 432x288 with 1 Axes>"
            ]
          },
          "metadata": {
            "tags": []
          }
        },
        {
          "output_type": "stream",
          "text": [
            "Mean Accuracy metic has value of 0.936\n",
            "F1 metic has value of 0.912\n",
            "AUC metic has value of 0.927\n",
            "Confusion Matrix\n",
            "[[103   4]\n",
            " [  7  57]]\n"
          ],
          "name": "stdout"
        }
      ]
    },
    {
      "cell_type": "markdown",
      "metadata": {
        "id": "7iWBExMkOrsj",
        "colab_type": "text"
      },
      "source": [
        "<b>Wyniki dla X_mds</b>"
      ]
    },
    {
      "cell_type": "code",
      "metadata": {
        "id": "zSzTqjj-Ov4s",
        "colab_type": "code",
        "outputId": "4a83d82a-9c44-44f8-d559-be162b6a527f",
        "colab": {
          "base_uri": "https://localhost:8080/",
          "height": 664
        }
      },
      "source": [
        "results_MDS = LogitModel(X_mds,Y)"
      ],
      "execution_count": 32,
      "outputs": [
        {
          "output_type": "stream",
          "text": [
            "[LibLinear]"
          ],
          "name": "stdout"
        },
        {
          "output_type": "display_data",
          "data": {
            "image/png": "[encoded data removed]",
            "text/plain": [
              "<Figure size 288x288 with 2 Axes>"
            ]
          },
          "metadata": {
            "tags": []
          }
        },
        {
          "output_type": "display_data",
          "data": {
            "image/png": "[encoded data removed]",
            "text/plain": [
              "<Figure size 432x288 with 1 Axes>"
            ]
          },
          "metadata": {
            "tags": []
          }
        },
        {
          "output_type": "stream",
          "text": [
            "Mean Accuracy metic has value of 0.924\n",
            "F1 metic has value of 0.894\n",
            "AUC metic has value of 0.911\n",
            "Confusion Matrix\n",
            "[[103   4]\n",
            " [  9  55]]\n"
          ],
          "name": "stdout"
        }
      ]
    },
    {
      "cell_type": "markdown",
      "metadata": {
        "id": "Q7LoqN7sOwrh",
        "colab_type": "text"
      },
      "source": [
        "<b>Wyniki dla X_tree</b>"
      ]
    },
    {
      "cell_type": "code",
      "metadata": {
        "id": "p6GgGBlpO0du",
        "colab_type": "code",
        "outputId": "ae140a22-5777-4053-e897-5bb74b79d53d",
        "colab": {
          "base_uri": "https://localhost:8080/",
          "height": 682
        }
      },
      "source": [
        "results_TREE = LogitModel(X_tree,Y)"
      ],
      "execution_count": 33,
      "outputs": [
        {
          "output_type": "stream",
          "text": [
            "[LibLinear]"
          ],
          "name": "stdout"
        },
        {
          "output_type": "stream",
          "text": [
            "/usr/local/lib/python3.6/dist-packages/sklearn/svm/base.py:929: ConvergenceWarning: Liblinear failed to converge, increase the number of iterations.\n",
            "  \"the number of iterations.\", ConvergenceWarning)\n"
          ],
          "name": "stderr"
        },
        {
          "output_type": "display_data",
          "data": {
            "image/png": "[encoded data removed]",
            "text/plain": [
              "<Figure size 288x288 with 2 Axes>"
            ]
          },
          "metadata": {
            "tags": []
          }
        },
        {
          "output_type": "display_data",
          "data": {
            "image/png": "[encoded data removed]",
            "text/plain": [
              "<Figure size 432x288 with 1 Axes>"
            ]
          },
          "metadata": {
            "tags": []
          }
        },
        {
          "output_type": "stream",
          "text": [
            "Mean Accuracy metic has value of 0.959\n",
            "F1 metic has value of 0.944\n",
            "AUC metic has value of 0.952\n",
            "Confusion Matrix\n",
            "[[105   2]\n",
            " [  5  59]]\n"
          ],
          "name": "stdout"
        }
      ]
    },
    {
      "cell_type": "markdown",
      "metadata": {
        "id": "f17D-4v-jjid",
        "colab_type": "text"
      },
      "source": [
        "<b> Wyniki dla X_inf</b>\n"
      ]
    },
    {
      "cell_type": "code",
      "metadata": {
        "id": "p35kOtWBS3Pb",
        "colab_type": "code",
        "colab": {
          "base_uri": "https://localhost:8080/",
          "height": 664
        },
        "outputId": "ad9582fa-6f41-45c1-e795-a85f65c6b4e0"
      },
      "source": [
        "results_Inf = LogitModel(X_inf,Y)"
      ],
      "execution_count": 34,
      "outputs": [
        {
          "output_type": "stream",
          "text": [
            "[LibLinear]"
          ],
          "name": "stdout"
        },
        {
          "output_type": "display_data",
          "data": {
            "image/png": "[encoded data removed]",
            "text/plain": [
              "<Figure size 288x288 with 2 Axes>"
            ]
          },
          "metadata": {
            "tags": []
          }
        },
        {
          "output_type": "display_data",
          "data": {
            "image/png": "[encoded data removed]",
            "text/plain": [
              "<Figure size 432x288 with 1 Axes>"
            ]
          },
          "metadata": {
            "tags": []
          }
        },
        {
          "output_type": "stream",
          "text": [
            "Mean Accuracy metic has value of 0.936\n",
            "F1 metic has value of 0.912\n",
            "AUC metic has value of 0.927\n",
            "Confusion Matrix\n",
            "[[103   4]\n",
            " [  7  57]]\n"
          ],
          "name": "stdout"
        }
      ]
    }
  ]
}